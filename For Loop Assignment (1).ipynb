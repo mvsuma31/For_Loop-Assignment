{
 "cells": [
  {
   "cell_type": "markdown",
   "id": "60ae5689-e171-44aa-8f93-93caf30170e5",
   "metadata": {},
   "source": [
    "Basic Level:\n",
    "\n",
    "1. Write a Python program to print the numbers from 1 to 10 using a `for` loop."
   ]
  },
  {
   "cell_type": "code",
   "execution_count": 1,
   "id": "53c19d02-1e02-4eb9-bc9a-527d17c98908",
   "metadata": {},
   "outputs": [
    {
     "name": "stdout",
     "output_type": "stream",
     "text": [
      "1\n",
      "2\n",
      "3\n",
      "4\n",
      "5\n",
      "6\n",
      "7\n",
      "8\n",
      "9\n",
      "10\n"
     ]
    }
   ],
   "source": [
    "for i in range(1,11):\n",
    "    print(i)"
   ]
  },
  {
   "cell_type": "markdown",
   "id": "fdb6ebda-97dd-4107-b74b-ea512f1ddec7",
   "metadata": {},
   "source": [
    "2. Create a program that calculates the sum of all numbers in a list using a `for` loop?"
   ]
  },
  {
   "cell_type": "code",
   "execution_count": 11,
   "id": "b3b1ec63-d81e-4267-b035-e3d1d047dc59",
   "metadata": {},
   "outputs": [
    {
     "name": "stdout",
     "output_type": "stream",
     "text": [
      "sum of all numbers in a list: 21\n"
     ]
    }
   ],
   "source": [
    "l1=[3,4,5,2,7]\n",
    "j=0\n",
    "for i in l1:\n",
    "    j =i+j\n",
    "print('sum of all numbers in a list:',j)"
   ]
  },
  {
   "cell_type": "markdown",
   "id": "6add3643-4c7f-47da-adcb-0ce4ce967313",
   "metadata": {},
   "source": [
    "3. Write a program to print the characters of a string in reverse order using a `for` loop"
   ]
  },
  {
   "cell_type": "code",
   "execution_count": 91,
   "id": "e88a628b-c5f9-4d29-a90b-46a87de1e6b7",
   "metadata": {},
   "outputs": [
    {
     "name": "stdout",
     "output_type": "stream",
     "text": [
      "lrig doog a ton si amus"
     ]
    }
   ],
   "source": [
    "s='suma is not a good girl'\n",
    "rev =''\n",
    "\n",
    "for i in range(len(s)-1,-1,-1):\n",
    "    print(s[i],end='')\n",
    "\n"
   ]
  },
  {
   "cell_type": "markdown",
   "id": "23bd01ad-7ece-4ce9-8922-1fd876efab16",
   "metadata": {},
   "source": [
    "4. Develop a program that finds the factorial of a given number using a `for` loop."
   ]
  },
  {
   "cell_type": "code",
   "execution_count": 95,
   "id": "c4149092-4609-405c-bbe3-0338b160a411",
   "metadata": {},
   "outputs": [
    {
     "name": "stdin",
     "output_type": "stream",
     "text": [
      "enter number for fact: 5\n"
     ]
    },
    {
     "name": "stdout",
     "output_type": "stream",
     "text": [
      "factorial: 5 is: 120\n"
     ]
    }
   ],
   "source": [
    "fac=int(input('enter number for fact:'))\n",
    "fact=1\n",
    "if fac<0:\n",
    "    print('no factorial for negative number')\n",
    "elif fac==0:\n",
    "    print('0 factorial is 1')\n",
    "else:\n",
    "    for i in range(1,fac+1):\n",
    "        fact=fact*i\n",
    "    print('factorial:',fac,'is:' ,fact)"
   ]
  },
  {
   "cell_type": "markdown",
   "id": "1593b4fe-9edf-4916-9138-8524aaec4905",
   "metadata": {},
   "source": [
    "5. Create a program to print the multiplication table of a given number using a `for` loop."
   ]
  },
  {
   "cell_type": "code",
   "execution_count": 82,
   "id": "26400835-24a3-4d26-b41b-19a2dade2d1c",
   "metadata": {},
   "outputs": [
    {
     "name": "stdin",
     "output_type": "stream",
     "text": [
      "enter number for multipl: 7\n"
     ]
    },
    {
     "name": "stdout",
     "output_type": "stream",
     "text": [
      "7 x 1 = 7\n",
      "7 x 2 = 14\n",
      "7 x 3 = 21\n",
      "7 x 4 = 28\n",
      "7 x 5 = 35\n",
      "7 x 6 = 42\n",
      "7 x 7 = 49\n",
      "7 x 8 = 56\n",
      "7 x 9 = 63\n",
      "7 x 10 = 70\n"
     ]
    }
   ],
   "source": [
    "num=int(input('enter number for multipl:'))\n",
    "\n",
    "for i in range(1,11):\n",
    "    print(num,'x',i,'=', num*i)\n"
   ]
  },
  {
   "cell_type": "markdown",
   "id": "00bd66b1-170b-4e1c-8514-9e2907a8bd00",
   "metadata": {},
   "source": [
    "6. Write a program that counts the number of even and odd numbers in a list using a `for` loop."
   ]
  },
  {
   "cell_type": "code",
   "execution_count": 97,
   "id": "1ddcdad1-38b2-4c63-86dd-698a56c34969",
   "metadata": {},
   "outputs": [
    {
     "name": "stdout",
     "output_type": "stream",
     "text": [
      "enter even count: 4\n",
      "enter odd count: 2\n"
     ]
    }
   ],
   "source": [
    "l=[2,4,7,8,3,10]\n",
    "even_cnt,odd_cnt=0,0\n",
    "for i in l:\n",
    "    if i%2==0:\n",
    "        even_cnt+=1\n",
    "    else:\n",
    "        odd_cnt+=1\n",
    "\n",
    "print('enter even count:',even_cnt)\n",
    "print('enter odd count:',odd_cnt)\n",
    "    \n",
    "   "
   ]
  },
  {
   "cell_type": "markdown",
   "id": "f2b36343-726a-4948-919f-bed0617eb6ed",
   "metadata": {},
   "source": [
    "7. Develop a program that prints the squares of numbers from 1 to 5 using a `for` loop."
   ]
  },
  {
   "cell_type": "code",
   "execution_count": 102,
   "id": "1a6cb46a-a07f-4d77-a4b0-52857bb9938e",
   "metadata": {},
   "outputs": [
    {
     "name": "stdout",
     "output_type": "stream",
     "text": [
      "the square of 1 is 1\n",
      "the square of 2 is 4\n",
      "the square of 3 is 9\n",
      "the square of 4 is 16\n",
      "the square of 5 is 25\n",
      "the square of 6 is 36\n"
     ]
    }
   ],
   "source": [
    "for i in range(1,7):\n",
    "    print(f'the square of {i} is {i**2}')"
   ]
  },
  {
   "cell_type": "markdown",
   "id": "3178a81f-9bb1-4779-ac67-5ff84698a3f0",
   "metadata": {},
   "source": [
    "8. Create a program to find the length of a string without using the `len()` function."
   ]
  },
  {
   "cell_type": "code",
   "execution_count": 126,
   "id": "0590f9fd-85dc-4ab5-8dc5-577e9598154b",
   "metadata": {},
   "outputs": [
    {
     "name": "stdout",
     "output_type": "stream",
     "text": [
      "16\n"
     ]
    }
   ],
   "source": [
    "s='Akki is good boy'\n",
    "count=0\n",
    "for i in s:\n",
    "    count +=1\n",
    "print(count)\n",
    "\n",
    "\n",
    " "
   ]
  },
  {
   "cell_type": "markdown",
   "id": "37a34c10-08b9-4156-b42b-a9897e5f99c7",
   "metadata": {},
   "source": [
    "9. Write a program that calculates the average of a list of numbers using a `for` loop."
   ]
  },
  {
   "cell_type": "markdown",
   "id": "9956594b-3880-4546-b6f4-90455534abec",
   "metadata": {},
   "source": [
    "l=[2,4,6,5,7]\n",
    "j=0\n",
    "k=0\n",
    "for i in l:\n",
    "    j=i+j\n",
    "    k+=1\n",
    "avg=j/k  \n",
    "print('average of list of numbers:',avg)\n",
    "print(j)\n",
    "  "
   ]
  },
  {
   "cell_type": "markdown",
   "id": "59630c03-35c5-4d6f-ae90-a92791cd8648",
   "metadata": {},
   "source": [
    "10. Develop a program that prints the first `n` Fibonacci numbers using a `for` loop."
   ]
  },
  {
   "cell_type": "code",
   "execution_count": 7,
   "id": "2de280f7-3f8b-4b59-bb21-f0aca1cbbb4c",
   "metadata": {},
   "outputs": [
    {
     "name": "stdin",
     "output_type": "stream",
     "text": [
      "enter the no of elements in fibananci series: 10\n"
     ]
    },
    {
     "name": "stdout",
     "output_type": "stream",
     "text": [
      "[0, 1, 1, 2, 3, 5, 8, 13, 21, 34]\n"
     ]
    }
   ],
   "source": [
    "n=int(input('enter the no of elements in fibananci series:'))\n",
    "f=[0,1]\n",
    "if n>2:\n",
    "    for i in range(2,n):\n",
    "        next=f[i-1]+f[i-2]\n",
    "        f.append(next)\n",
    "\n",
    "print(f)"
   ]
  },
  {
   "cell_type": "markdown",
   "id": "8d8b3ea8-e6d3-47e4-a0fb-db41ce71ddb1",
   "metadata": {},
   "source": [
    "Intermediate Level:\n",
    "11. Write a program to check if a given list contains any duplicates using a `for` loop."
   ]
  },
  {
   "cell_type": "code",
   "execution_count": 2,
   "id": "dbb316b6-20aa-4125-b14e-1994243e7188",
   "metadata": {},
   "outputs": [
    {
     "name": "stdout",
     "output_type": "stream",
     "text": [
      "3\n",
      "4\n"
     ]
    }
   ],
   "source": [
    "seq =[1,2,3,4,4,3,5]\n",
    "for i in range(len(seq)):\n",
    "    for j in range(i+1,len(seq)):\n",
    "         if seq[i]==seq[j]:\n",
    "            print (seq[i])\n"
   ]
  },
  {
   "cell_type": "markdown",
   "id": "0dbf80ce-d712-4bb4-b30d-93f5f37dfbd8",
   "metadata": {},
   "source": [
    "12. Create a program that prints the prime numbers in a given range using a `for` loop"
   ]
  },
  {
   "cell_type": "code",
   "execution_count": 14,
   "id": "bf13b4bd-05ff-4489-bc6a-19fbe18dee21",
   "metadata": {},
   "outputs": [
    {
     "name": "stdin",
     "output_type": "stream",
     "text": [
      "enter first number : 5\n",
      "enter second number: 15\n"
     ]
    },
    {
     "name": "stdout",
     "output_type": "stream",
     "text": [
      "5\n",
      "7\n",
      "11\n",
      "13\n"
     ]
    }
   ],
   "source": [
    "lo=int(input('enter first number :'))\n",
    "up=int(input('enter second number:'))\n",
    "for i in range(lo, up+1):\n",
    "    if i>1:\n",
    "        for j in range(2,i):\n",
    "            if (i%j)==0:\n",
    "                break\n",
    "        else:\n",
    "            print(i)\n",
    "       \n"
   ]
  },
  {
   "cell_type": "markdown",
   "id": "73acc446-8594-489c-8bb4-b55876ec80b3",
   "metadata": {},
   "source": [
    "13. Develop a program that counts the number of vowels in a string using a `for` loop.\n",
    "    "
   ]
  },
  {
   "cell_type": "code",
   "execution_count": 64,
   "id": "88202e70-df0e-4d6c-a536-f4fc44960de1",
   "metadata": {},
   "outputs": [
    {
     "name": "stdout",
     "output_type": "stream",
     "text": [
      "['suma', 'is', 'good', 'girl']\n",
      "the word is suma and it contains 2\n",
      "the word is is and it contains 1\n",
      "the word is good and it contains 2\n",
      "the word is girl and it contains 1\n"
     ]
    }
   ],
   "source": [
    "st= 'suma is good girl'\n",
    "slist=st.split()\n",
    "vowels=['a','e','i', 'o', 'u', 'A', 'E', 'I', 'O', 'U']\n",
    "print(slist)\n",
    "#Traversing every word in wordList\n",
    "for word in slist:\n",
    "    cnt=0\n",
    "    for i in range( 0,len(word)):\n",
    "        if word[i] in vowels:\n",
    "           cnt+=1\n",
    "    print('the word is',word, 'and it contains',cnt)\n",
    "        "
   ]
  },
  {
   "cell_type": "markdown",
   "id": "d3341dd8-42ec-4846-8111-d6fd4bd6227a",
   "metadata": {},
   "source": [
    "14. Write a program to find the maximum element in a 2D list using a nested `for` loop."
   ]
  },
  {
   "cell_type": "code",
   "execution_count": 71,
   "id": "697d7b6e-964f-47ff-bf01-062aa959f601",
   "metadata": {},
   "outputs": [
    {
     "name": "stdout",
     "output_type": "stream",
     "text": [
      "20\n"
     ]
    }
   ],
   "source": [
    "my_list=[2,4,6,[5,6,8,20]]\n",
    "print(max(max(x) if isinstance(x,list) else x for x in my_list))"
   ]
  },
  {
   "cell_type": "markdown",
   "id": "55c299a3-ddae-4fe5-b08c-59bac72ccbec",
   "metadata": {},
   "source": [
    "15. Create a program that removes all occurrences of a specific element from a list using a `for` loop"
   ]
  },
  {
   "cell_type": "code",
   "execution_count": 76,
   "id": "c9759579-19fe-41cc-88f2-0d958f98dea8",
   "metadata": {},
   "outputs": [
    {
     "name": "stdout",
     "output_type": "stream",
     "text": [
      "[2, 3, 6, 8, 9, 10]\n"
     ]
    }
   ],
   "source": [
    "my_list=[2,3,5,6,8,9,10]\n",
    "r_it=5\n",
    "for i in my_list:\n",
    "   if (i==r_it):\n",
    "       my_list.remove(r_it)\n",
    "print(my_list)"
   ]
  },
  {
   "cell_type": "markdown",
   "id": "5a6c40d2-42e2-4abf-979e-ce37d3fa51b3",
   "metadata": {},
   "source": [
    "16. Develop a program that generates a multiplication table for numbers from 1 to 5 using a nested `for` loop."
   ]
  },
  {
   "cell_type": "code",
   "execution_count": 87,
   "id": "ad4b4582-30b6-47de-a47e-5932965df44b",
   "metadata": {},
   "outputs": [
    {
     "name": "stdout",
     "output_type": "stream",
     "text": [
      "1x1=1\n",
      "1x2=2\n",
      "1x3=3\n",
      "1x4=4\n",
      "1x5=5\n",
      "1x6=6\n",
      "1x7=7\n",
      "1x8=8\n",
      "1x9=9\n",
      "1x10=10\n",
      "2x1=2\n",
      "2x2=4\n",
      "2x3=6\n",
      "2x4=8\n",
      "2x5=10\n",
      "2x6=12\n",
      "2x7=14\n",
      "2x8=16\n",
      "2x9=18\n",
      "2x10=20\n",
      "3x1=3\n",
      "3x2=6\n",
      "3x3=9\n",
      "3x4=12\n",
      "3x5=15\n",
      "3x6=18\n",
      "3x7=21\n",
      "3x8=24\n",
      "3x9=27\n",
      "3x10=30\n",
      "4x1=4\n",
      "4x2=8\n",
      "4x3=12\n",
      "4x4=16\n",
      "4x5=20\n",
      "4x6=24\n",
      "4x7=28\n",
      "4x8=32\n",
      "4x9=36\n",
      "4x10=40\n",
      "5x1=5\n",
      "5x2=10\n",
      "5x3=15\n",
      "5x4=20\n",
      "5x5=25\n",
      "5x6=30\n",
      "5x7=35\n",
      "5x8=40\n",
      "5x9=45\n",
      "5x10=50\n"
     ]
    }
   ],
   "source": [
    "lt=[1,2,3,4,5]\n",
    "for i in range(1,6):\n",
    "    for n in range(1,11):\n",
    "        print(f'{i}x{n}={i*n}')"
   ]
  },
  {
   "cell_type": "markdown",
   "id": "810d3a93-5df7-4de5-b26b-2f251b0f6b2f",
   "metadata": {},
   "source": [
    "17. Write a program that converts a list of Fahrenheit temperatures to Celsius using a `for` loop."
   ]
  },
  {
   "cell_type": "code",
   "execution_count": 90,
   "id": "fe185f3a-d429-48f3-9f34-68eb1c7d42c2",
   "metadata": {},
   "outputs": [
    {
     "name": "stdout",
     "output_type": "stream",
     "text": [
      "Celsius temp: [6.111111111111111, 1.6666666666666667, 13.88888888888889, 26.666666666666668]\n"
     ]
    }
   ],
   "source": [
    "fh_tem=[43,35,57,80]\n",
    "cel_tem=[]\n",
    "for temp in fh_tem:\n",
    "    cel_temp=(temp-32)*5.0/9.0\n",
    "    cel_tem.append(cel_temp)\n",
    "print('Celsius temp:' , cel_tem)"
   ]
  },
  {
   "cell_type": "markdown",
   "id": "551992af-44c8-4ff4-9b4c-6a65b98817e7",
   "metadata": {},
   "source": [
    "18. Create a program to print the common elements from two lists using a `for` loop."
   ]
  },
  {
   "cell_type": "code",
   "execution_count": 125,
   "id": "f844ce85-d655-4026-9926-ff8ee65a6ec2",
   "metadata": {},
   "outputs": [
    {
     "name": "stdout",
     "output_type": "stream",
     "text": [
      "common element form list: [5, 6, 7, 8]\n"
     ]
    }
   ],
   "source": [
    "list1=[4,5,6,7,8]\n",
    "list2=[5,6,7,8,9]\n",
    "common_elem=[]\n",
    "for element in list1:\n",
    "    if element in list2:\n",
    "       common_elem.append(element)\n",
    "print('common element form list:', common_elem)\n",
    "            "
   ]
  },
  {
   "cell_type": "markdown",
   "id": "9b461ff0-d679-41ee-b985-4cfa090fb302",
   "metadata": {},
   "source": [
    "19. Develop a program that prints the pattern of right-angled triangles using a `for` loop. Use ‘*’ to draw the\n",
    "pattern"
   ]
  },
  {
   "cell_type": "code",
   "execution_count": 136,
   "id": "067716a5-1e88-42a0-a48a-9a93a0e2e729",
   "metadata": {},
   "outputs": [
    {
     "name": "stdin",
     "output_type": "stream",
     "text": [
      "enter right traingle of pattern: 8\n"
     ]
    },
    {
     "name": "stdout",
     "output_type": "stream",
     "text": [
      "right traingle pattern with *:\n",
      "*\n",
      "**\n",
      "***\n",
      "****\n",
      "*****\n",
      "******\n",
      "*******\n",
      "********\n"
     ]
    }
   ],
   "source": [
    "n=int(input('enter right traingle of pattern:'))\n",
    "print('right traingle pattern with *:')\n",
    "for i in range(1,n+1):\n",
    "    for j in range(1,i+1):\n",
    "        print('*',end='')\n",
    "    print()\n",
    "    "
   ]
  },
  {
   "cell_type": "markdown",
   "id": "3109f259-9cc0-4b56-b605-18c12016139f",
   "metadata": {},
   "source": [
    "20. Write a program to find the greatest common divisor (GCD) of two numbers using a `for` loop."
   ]
  },
  {
   "cell_type": "code",
   "execution_count": 143,
   "id": "4e81516b-8adf-4a07-aa89-c9f6c2a47cb6",
   "metadata": {},
   "outputs": [],
   "source": [
    "def gcd(a,b):\n",
    "    if b==0:\n",
    "        return a\n",
    "    else:\n",
    "        return gcd(b,a%b)"
   ]
  },
  {
   "cell_type": "code",
   "execution_count": 145,
   "id": "d08d94a5-5d7d-4e0c-b916-fb1d42a57e71",
   "metadata": {},
   "outputs": [
    {
     "data": {
      "text/plain": [
       "16"
      ]
     },
     "execution_count": 145,
     "metadata": {},
     "output_type": "execute_result"
    }
   ],
   "source": [
    "gcd(16,48)"
   ]
  },
  {
   "cell_type": "markdown",
   "id": "341b28b7-3c96-4f5a-ad39-64a772ca8486",
   "metadata": {},
   "source": [
    "21. Create a program that calculates the sum of the digits of numbers in a list using a list comprehension."
   ]
  },
  {
   "cell_type": "code",
   "execution_count": 152,
   "id": "4580d2fe-e212-4942-8a72-323e65f8f70e",
   "metadata": {},
   "outputs": [
    {
     "name": "stdout",
     "output_type": "stream",
     "text": [
      "23\n"
     ]
    }
   ],
   "source": [
    "list=[4,5,6,8]\n",
    "sum_dig=[i for i in list]\n",
    "print(sum(sum_dig))"
   ]
  },
  {
   "cell_type": "markdown",
   "id": "122f1538-de59-40a0-b18a-38c3154c916b",
   "metadata": {},
   "source": [
    "21. Write a program to find the prime factors of a given number using a `for` loop and list comprehension."
   ]
  },
  {
   "cell_type": "code",
   "execution_count": 156,
   "id": "9ceb13a9-c1e2-46c6-8ca0-13eb55641650",
   "metadata": {},
   "outputs": [
    {
     "name": "stdout",
     "output_type": "stream",
     "text": [
      "22\n"
     ]
    }
   ],
   "source": [
    " \n",
    "def productPrimeFactors(n): \n",
    "    product = 1\n",
    "  \n",
    "    for i in range(2, n+1): \n",
    "        if (n % i == 0): \n",
    "            isPrime = 1\n",
    "  \n",
    "            for j in range(2, int(i/2 + 1)): \n",
    "                if (i % j == 0): \n",
    "                    isPrime = 0\n",
    "                    break\n",
    "  \n",
    "            # condition if \\'i\\' is Prime number \n",
    "            # as well as factor of num \n",
    "            if (isPrime): \n",
    "                product = product * i \n",
    "  \n",
    "    return product \n",
    "  \n",
    "  \n",
    "# main() \n",
    "n = 44\n",
    "print(productPrimeFactors(n)) "
   ]
  },
  {
   "cell_type": "markdown",
   "id": "05971d36-0a7b-40d4-b196-d4aab48209c2",
   "metadata": {},
   "source": [
    "23. Develop a program that extracts unique elements from a list and stores them in a new list using a list\n",
    "comprehension."
   ]
  },
  {
   "cell_type": "code",
   "execution_count": 159,
   "id": "8f277bc3-4522-4ab1-a048-5a170293393e",
   "metadata": {},
   "outputs": [
    {
     "name": "stdout",
     "output_type": "stream",
     "text": [
      "[2, 3, 5, 6, 7, 8]\n"
     ]
    }
   ],
   "source": [
    "my_list=[2,3,2,3,5,6,7,8]\n",
    "unique_val=[]\n",
    "[unique_val.append(x) for x in my_list if x not in unique_val]\n",
    "print(unique_val)\n"
   ]
  },
  {
   "cell_type": "markdown",
   "id": "34533b45-2012-443b-b6dd-9dfc71360059",
   "metadata": {},
   "source": [
    "24. Create a program that generates a list of all palindromic numbers up to a specified limit using a list\n",
    "comprehension."
   ]
  },
  {
   "cell_type": "code",
   "execution_count": 226,
   "id": "e3bf909a-f28d-49a1-8298-c62a1159dc33",
   "metadata": {},
   "outputs": [
    {
     "name": "stdout",
     "output_type": "stream",
     "text": [
      "[131, 141, 565, 878]\n"
     ]
    }
   ],
   "source": [
    "\n",
    "list_a=[131,122,141,565,878,133]\n",
    "palind=0\n",
    "palind=[i for i in list_a if str(i)==str(i)[::-1]]\n",
    "print(palind)\n",
    "\n"
   ]
  },
  {
   "cell_type": "markdown",
   "id": "45365cf4-65df-47ec-9d33-cc1821bf0f7b",
   "metadata": {},
   "source": [
    "25. Write a program to flatten a nested list using list comprehension."
   ]
  },
  {
   "cell_type": "code",
   "execution_count": 233,
   "id": "15cdb3e2-4357-4368-a073-3e1d2dd0b0b8",
   "metadata": {},
   "outputs": [
    {
     "name": "stdout",
     "output_type": "stream",
     "text": [
      "[1, 2, 4, 5, 6, 7, 8]\n"
     ]
    }
   ],
   "source": [
    "my_list=[[1],[2,4,5],[6,7,8]]\n",
    "flat=[num for sublist in my_list for num in sublist]\n",
    "print(flat)"
   ]
  },
  {
   "cell_type": "code",
   "execution_count": 235,
   "id": "b8a97a94-957e-4f1c-9fab-7d5ee0cc2d1c",
   "metadata": {},
   "outputs": [
    {
     "name": "stdout",
     "output_type": "stream",
     "text": [
      "[1, 2, 4, 5, 6, 7, 8]\n"
     ]
    }
   ],
   "source": [
    "from functools import reduce\n",
    "my_list=[[1],[2,4,5],[6,7,8]]\n",
    "print(reduce(lambda x,y:x+y,my_list))"
   ]
  },
  {
   "cell_type": "markdown",
   "id": "945f4791-8a37-403b-854a-698afce3e2c0",
   "metadata": {},
   "source": [
    "26. Develop a program that computes the sum of even and odd numbers in a list separately using list\n",
    "comprehension."
   ]
  },
  {
   "cell_type": "code",
   "execution_count": 246,
   "id": "c37825eb-be09-4c65-a94a-c188e4c63ce5",
   "metadata": {},
   "outputs": [
    {
     "name": "stdout",
     "output_type": "stream",
     "text": [
      "24\n",
      "88\n"
     ]
    }
   ],
   "source": [
    "my_list=[3,5,7,8,9,80]\n",
    "sum_odd=sum([int(i) for i in my_list if int(i)%2!=0 ])\n",
    "sum_even=sum([int(i) for i in my_list if int(i)%2==0])\n",
    "print(sum_odd)\n",
    "print(sum_even)"
   ]
  },
  {
   "cell_type": "markdown",
   "id": "9d8edab6-a706-47cb-b1d3-d3b3db3a5ec4",
   "metadata": {},
   "source": [
    "27. Create a program that generates a list of squares of odd numbers between 1 and 10 using list\n",
    "comprehension."
   ]
  },
  {
   "cell_type": "code",
   "execution_count": 253,
   "id": "8499b68e-aee0-4d69-a7b4-fea74f5eb7f2",
   "metadata": {},
   "outputs": [
    {
     "name": "stdout",
     "output_type": "stream",
     "text": [
      "[1, 9, 25, 49, 81]\n"
     ]
    }
   ],
   "source": [
    "square_odd=[i*i for i in range(1,11) if int(i)%2!=0]\n",
    "print(square_odd)"
   ]
  },
  {
   "cell_type": "markdown",
   "id": "d6f1782f-502c-4f08-9632-922b722e1b20",
   "metadata": {},
   "source": [
    "28. Write a program that combines two lists into a dictionary using list comprehension."
   ]
  },
  {
   "cell_type": "code",
   "execution_count": 258,
   "id": "01faa44b-21cd-4517-8581-cdc02f04d8fd",
   "metadata": {},
   "outputs": [
    {
     "name": "stdout",
     "output_type": "stream",
     "text": [
      "{2: 'suma', 4: 'kasi', 5: 'akhilesh', 6: 'ritesh'}\n"
     ]
    }
   ],
   "source": [
    "list1= [2,4,5,6]\n",
    "lis2=['suma','kasi','akhilesh','ritesh']\n",
    "disct = {k:v for k,v in zip(list1,lis2)}\n",
    "print(disct)\n",
    "\n"
   ]
  },
  {
   "cell_type": "markdown",
   "id": "05d18cd9-de32-4619-9805-678fa622b992",
   "metadata": {},
   "source": [
    "29. Develop a program that extracts the vowels from a string and stores them in a list using list comprehension."
   ]
  },
  {
   "cell_type": "code",
   "execution_count": 261,
   "id": "16d5db2a-5192-4905-b3ee-a331b6c6767f",
   "metadata": {},
   "outputs": [
    {
     "name": "stdout",
     "output_type": "stream",
     "text": [
      "['u', 'a', 'i', 'o', 'o', 'i']\n"
     ]
    }
   ],
   "source": [
    "st='suma is good girl'\n",
    "vowels=['a','e','i','o','u']\n",
    "extr_vow=[ i for i in st if i in vowels]\n",
    "print(extr_vow)"
   ]
  },
  {
   "cell_type": "markdown",
   "id": "d16b166b-9bb3-4312-ba86-6d1a93ba136c",
   "metadata": {},
   "source": [
    "30. Create a program that removes all non-numeric characters from a list of strings using list comprehension."
   ]
  },
  {
   "cell_type": "code",
   "execution_count": 265,
   "id": "75c28971-8da5-48b2-84cd-d77e71d23269",
   "metadata": {},
   "outputs": [
    {
     "name": "stdout",
     "output_type": "stream",
     "text": [
      "123\n"
     ]
    }
   ],
   "source": [
    "a_string = \"!1a2;b3c?\"\n",
    "numeric_filter = filter(str.isdigit, a_string)\n",
    "numeric_string = \"\".join(numeric_filter)\n",
    "print(numeric_string)"
   ]
  },
  {
   "cell_type": "markdown",
   "id": "478494a7-45ce-48d3-a21f-4ad4874eb0bd",
   "metadata": {},
   "source": [
    "31. Write a program to generate a list of prime numbers using the Sieve of Eratosthenes algorithm and list\n",
    "comprehension."
   ]
  },
  {
   "cell_type": "code",
   "execution_count": 286,
   "id": "10a04409-7b5c-48fb-8517-1917922e2c96",
   "metadata": {},
   "outputs": [
    {
     "name": "stdout",
     "output_type": "stream",
     "text": [
      "[2, 3, 5, 7, 11, 13, 17, 19, 23, 29, 31, 37, 41, 43, 47, 53, 59, 61, 67, 71, 73, 79, 83, 89, 97]\n"
     ]
    }
   ],
   "source": [
    "l = range(2, 101)\n",
    "st=sorted(set(l).difference(a for i in l for a in l if a!=i and a%i == 0))\n",
    "print(st)"
   ]
  },
  {
   "cell_type": "markdown",
   "id": "832047b8-f837-400f-9a3d-b1b10dcca0bb",
   "metadata": {},
   "source": [
    "32. Create a program that generates a list of all Pythagorean triplets up to a specified limit using list\n",
    "comprehension."
   ]
  },
  {
   "cell_type": "code",
   "execution_count": 310,
   "id": "e94f9449-9afd-45d0-8da5-4ff3e32f2824",
   "metadata": {},
   "outputs": [
    {
     "name": "stdin",
     "output_type": "stream",
     "text": [
      "Enter the value of n:  17\n"
     ]
    },
    {
     "name": "stdout",
     "output_type": "stream",
     "text": [
      "[(3, 4, 5), (5, 12, 13), (6, 8, 10), (8, 15, 17), (9, 12, 15)]\n"
     ]
    }
   ],
   "source": [
    "n = int(input('Enter the value of n: '))\n",
    "print([(a, b, c) for a in range(1, n + 1) for b in range(a, n + 1)\n",
    "       for c in range(b, n+ 1) if a**2 + b**2 == c**2])\n"
   ]
  },
  {
   "cell_type": "code",
   "execution_count": 312,
   "id": "d3d465d8-7d71-4721-ba1c-1107551fcf84",
   "metadata": {},
   "outputs": [
    {
     "name": "stdout",
     "output_type": "stream",
     "text": [
      "[(3, 4, 5), (5, 12, 13), (6, 8, 10), (8, 15, 17), (9, 12, 15)]\n"
     ]
    }
   ],
   "source": [
    "import itertools\n",
    "print([(a,b,c) for a,b,c in itertools.product(range(1,n+1),repeat=3) if a<b<c and a**2+b**2==c**2])"
   ]
  },
  {
   "cell_type": "markdown",
   "id": "7ed0541f-3f7c-4a02-a2fd-3d3593b59f5d",
   "metadata": {},
   "source": [
    "33. Develop a program that generates a list of all possible combinations of two lists using list comprehension"
   ]
  },
  {
   "cell_type": "code",
   "execution_count": 319,
   "id": "d85e09aa-6870-45bc-bc15-36a54e7d5610",
   "metadata": {},
   "outputs": [
    {
     "name": "stdout",
     "output_type": "stream",
     "text": [
      "[(2, 3), (2, 5), (2, 8), (2, 9), (2, 10), (3, 5), (3, 8), (3, 9), (3, 10), (4, 3), (4, 5), (4, 8), (4, 9), (4, 10), (5, 3), (5, 8), (5, 9), (5, 10), (6, 3), (6, 5), (6, 8), (6, 9), (6, 10)]\n"
     ]
    }
   ],
   "source": [
    "list1=[2,3,4,5,6]\n",
    "list2=[3,5,8,9,10]\n",
    "print([(x,y) for x in list1 for y in list2 if x!=y])"
   ]
  },
  {
   "cell_type": "markdown",
   "id": "ad3028bb-1e04-4aea-aef7-25464f4584ae",
   "metadata": {},
   "source": [
    "34. Write a program that calculates the mean, median, and mode of a list of numbers using list\n",
    "comprehension."
   ]
  },
  {
   "cell_type": "code",
   "execution_count": 338,
   "id": "b75b4f47-5bb0-4455-b56e-48d4b27c9565",
   "metadata": {},
   "outputs": [
    {
     "name": "stdout",
     "output_type": "stream",
     "text": [
      "4.4\n"
     ]
    }
   ],
   "source": [
    "list=[2,4,6,8,3,5,4,3,2,7]\n",
    "list.sort()\n",
    "list1=len(list)\n",
    "#mean\n",
    "print(sum(list)/list1)\n",
    "#median\n",
    "\n"
   ]
  },
  {
   "cell_type": "code",
   "execution_count": 340,
   "id": "676e45ac-32dd-4f65-aba2-af2bd6da2a5c",
   "metadata": {},
   "outputs": [
    {
     "name": "stdout",
     "output_type": "stream",
     "text": [
      "Median 5\n"
     ]
    }
   ],
   "source": [
    "# The list of numbers\n",
    "numberList = [2, 3, 5, 7, 8]\n",
    "\n",
    "# Get the total length / count of numbers in the list\n",
    "count = len(numberList)\n",
    "\n",
    "# Sort the list\n",
    "numberList.sort()\n",
    "\n",
    "# Check for even and odd count\n",
    "if count % 2 == 0:\n",
    "    median1 = numberList[count//2]\n",
    "    median2 = numberList[count//2 - 1]\n",
    "    median = (median1 + median2)/2\n",
    "else:\n",
    "    median = numberList[count//2]\n",
    "\n",
    "# Print the Median\n",
    "print(\"Median\", median)"
   ]
  },
  {
   "cell_type": "code",
   "execution_count": 354,
   "id": "02b4d0eb-4864-42ce-aa3e-158ae753cdda",
   "metadata": {},
   "outputs": [
    {
     "ename": "SyntaxError",
     "evalue": "expected 'else' after 'if' expression (1596545065.py, line 10)",
     "output_type": "error",
     "traceback": [
      "\u001b[1;36m  Cell \u001b[1;32mIn[354], line 10\u001b[1;36m\u001b[0m\n\u001b[1;33m    print([int(x) if count % 2 == 0 then int((numberList[count//2]+numberList[count//2 - 1]))/2 else  (numberList[count//2])])\u001b[0m\n\u001b[1;37m           ^\u001b[0m\n\u001b[1;31mSyntaxError\u001b[0m\u001b[1;31m:\u001b[0m expected 'else' after 'if' expression\n"
     ]
    }
   ],
   "source": [
    "numberList = [2, 3, 5, 7, 8]\n",
    "\n",
    "# Get the total length / count of numbers in the list\n",
    "count = len(numberList)\n",
    "\n",
    "# Sort the list\n",
    "numberList.sort()\n",
    "\n",
    "# Check for even and odd count\n",
    "print([int(x) if count % 2 == 0 then int((numberList[count//2]+numberList[count//2 - 1]))/2 else  (numberList[count//2])])\n"
   ]
  },
  {
   "cell_type": "markdown",
   "id": "d2b0f8ba-83a1-40dd-a185-ae060ee92a82",
   "metadata": {},
   "source": [
    "35. Create a program that generates Pascal's triangle up to a specified number of rows using list\n",
    "comprehension."
   ]
  },
  {
   "cell_type": "code",
   "execution_count": 368,
   "id": "fc6ea350-fa80-4758-8158-f246b839ce21",
   "metadata": {},
   "outputs": [
    {
     "name": "stdin",
     "output_type": "stream",
     "text": [
      "enter the number: 5\n"
     ]
    },
    {
     "name": "stdout",
     "output_type": "stream",
     "text": [
      "\n",
      "1\n",
      "11\n",
      "121\n",
      "1331\n",
      "14641\n"
     ]
    }
   ],
   "source": [
    "n=int(input('enter the number:'))\n",
    "for i in range(n+1):\n",
    "    for j in range(n-i):\n",
    "       print('' , end='')\n",
    "    c=1\n",
    "    for j in range(1,i+1):\n",
    "       print(c, '', sep='',end='')\n",
    "       c=c*(i-j)//j\n",
    "    print()"
   ]
  },
  {
   "cell_type": "markdown",
   "id": "465ededf-eafd-4b4e-bab9-1ef6e733ebb9",
   "metadata": {},
   "source": [
    "36. Develop a program that calculates the sum of the digits of a factorial of numbers from 1 to 5 using list\n",
    "comprehension"
   ]
  },
  {
   "cell_type": "code",
   "execution_count": 377,
   "id": "f74f6ff2-6ea4-4d19-b296-ff9cb13cbd3e",
   "metadata": {},
   "outputs": [
    {
     "name": "stdout",
     "output_type": "stream",
     "text": [
      "[1, 2, 6]\n"
     ]
    }
   ],
   "source": [
    "s=[1]\n",
    "s=[s[-1] for x in range(1,4) if not s.append(x*s[-1])]\n",
    "print(s)"
   ]
  },
  {
   "cell_type": "markdown",
   "id": "adc1c1b7-44cd-4a32-bef8-b67110aa0579",
   "metadata": {},
   "source": [
    "37. Write a program that finds the longest word in a sentence using list comprehension."
   ]
  },
  {
   "cell_type": "code",
   "execution_count": 380,
   "id": "8e2fe821-338e-4883-a2b5-16a44cfc8ba9",
   "metadata": {},
   "outputs": [
    {
     "name": "stdout",
     "output_type": "stream",
     "text": [
      "[]\n"
     ]
    }
   ],
   "source": [
    "s = \"be confident and be yourself\"\n",
    "word=s.split()\n",
    "s=sorted(s, key = len)\n",
    "print([x for i in word if len(i) >len(s)])"
   ]
  },
  {
   "cell_type": "markdown",
   "id": "cf27a04a-c989-4054-8a9d-8a7bef633c9f",
   "metadata": {},
   "source": [
    "\n",
    "\n",
    "from functools import reduce\n",
    " \n",
    "# function to find the longest word in a string\n",
    "def longest_word(s):\n",
    "    # split the string into words\n",
    "    words = s.split()\n",
    "    # use reduce to find the word with the maximum length\n",
    "    return reduce(lambda x, y: x if len(x) > len(y) else y, words)\n",
    " \n",
    "# example usage\n",
    "s = \"be confident and be yourself\"\n",
    "longest = longest_word(s)\n",
    "print(\"The longest word in the string is:\", longest)"
   ]
  },
  {
   "cell_type": "markdown",
   "id": "b380ad2c-b0f2-4f63-94c5-d28482dd8dbb",
   "metadata": {},
   "source": [
    "38. Create a program that filters a list of strings to include only those with more than three vowels using list\n",
    "comprehension."
   ]
  },
  {
   "cell_type": "code",
   "execution_count": 389,
   "id": "6b22e605-b1b7-47c5-ad44-02f7a92d6e1c",
   "metadata": {},
   "outputs": [
    {
     "name": "stdout",
     "output_type": "stream",
     "text": [
      "['guava', 'pineapple', 'mandarin orange']\n"
     ]
    }
   ],
   "source": [
    "import re\n",
    "\n",
    "fruits = [\"mango\", \"kiwi\", \"strawberry\", \"guava\", \"pineapple\", \"mandarin orange\"]\n",
    "results = [i for i in fruits if len(re.sub(r\"[^aeiouAEIOU]\", \"\", i)) > 2]\n",
    "print(results)"
   ]
  },
  {
   "cell_type": "markdown",
   "id": "d5db140c-9ed7-402e-83e6-9599ed1b6032",
   "metadata": {},
   "source": [
    "39. Develop a program that calculates the sum of the digits of numbers from 1 to 1000 using list\n",
    "comprehension."
   ]
  },
  {
   "cell_type": "code",
   "execution_count": 398,
   "id": "61d737eb-915b-4d63-a7b4-7955b0110dc7",
   "metadata": {},
   "outputs": [
    {
     "name": "stdout",
     "output_type": "stream",
     "text": [
      "500500\n"
     ]
    }
   ],
   "source": [
    "print(sum(range(1,1001)))"
   ]
  },
  {
   "cell_type": "markdown",
   "id": "807b725f-a866-4827-adb4-1d5893dbb3ba",
   "metadata": {},
   "source": [
    "40. Write a program that generates a list of prime palindromic numbers using list comprehension."
   ]
  },
  {
   "cell_type": "code",
   "execution_count": 403,
   "id": "0869879a-7411-49ab-a768-809d9b155175",
   "metadata": {},
   "outputs": [
    {
     "name": "stdout",
     "output_type": "stream",
     "text": [
      "121\n",
      "141\n",
      "252\n",
      "Total palindrome nos. are 3\n"
     ]
    }
   ],
   "source": [
    " \n",
    "def palindromeNumbers(list_a):\n",
    "    c = 0\n",
    "    for i in list_a:\n",
    "        if str(i) == str(i)[::-1]:\n",
    "            print(i)\n",
    "            c += 1\n",
    "    print(\"Total palindrome nos. are\", c)\n",
    " \n",
    " \n",
    "list_a = [10, 121, 133, 155, 141, 252]\n",
    "palindromeNumbers(list_a)"
   ]
  },
  {
   "cell_type": "code",
   "execution_count": null,
   "id": "a0fa95a8-60e7-40fc-8a7c-483b8c28ee45",
   "metadata": {},
   "outputs": [],
   "source": []
  }
 ],
 "metadata": {
  "kernelspec": {
   "display_name": "Python 3 (ipykernel)",
   "language": "python",
   "name": "python3"
  },
  "language_info": {
   "codemirror_mode": {
    "name": "ipython",
    "version": 3
   },
   "file_extension": ".py",
   "mimetype": "text/x-python",
   "name": "python",
   "nbconvert_exporter": "python",
   "pygments_lexer": "ipython3",
   "version": "3.12.4"
  }
 },
 "nbformat": 4,
 "nbformat_minor": 5
}
